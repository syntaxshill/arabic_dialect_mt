{
 "cells": [
  {
   "cell_type": "code",
   "execution_count": 1,
   "metadata": {},
   "outputs": [],
   "source": [
    "import json\n",
    "import os\n",
    "import openai"
   ]
  },
  {
   "cell_type": "code",
   "execution_count": 10,
   "metadata": {},
   "outputs": [],
   "source": [
    "openai.api_type = \"azure\"\n",
    "openai.api_base = \"https://arabic-dialects-llm-translation.openai.azure.com/\"\n",
    "openai.api_version = \"2023-09-15-preview\"\n",
    "openai.api_key = os.getenv(\"OPENAI_API_KEY\")\n",
    "\n",
    "\n",
    "def request_gpt(src_text, dialect):\n",
    "    response = openai.Completion.create(\n",
    "        engine=\"gpt-35-turbo-model\",\n",
    "        prompt=f\"{dialect} Arabic: {src_text}\\nModern Standard Arabic: \",\n",
    "        temperature=0,\n",
    "        max_tokens=100,\n",
    "        top_p=0.5,\n",
    "        frequency_penalty=0,\n",
    "        presence_penalty=0,\n",
    "        stop=None\n",
    "    )\n",
    "    return response"
   ]
  },
  {
   "cell_type": "code",
   "execution_count": 11,
   "metadata": {},
   "outputs": [
    {
     "data": {
      "text/plain": [
       "<OpenAIObject text_completion id=cmpl-9R4GfsL9bHjAaZxLGkR53kkY2LBiz at 0x1094d84f0> JSON: {\n",
       "  \"id\": \"cmpl-9R4GfsL9bHjAaZxLGkR53kkY2LBiz\",\n",
       "  \"object\": \"text_completion\",\n",
       "  \"created\": 1716238289,\n",
       "  \"model\": \"gpt-35-turbo\",\n",
       "  \"prompt_filter_results\": [\n",
       "    {\n",
       "      \"prompt_index\": 0,\n",
       "      \"content_filter_results\": {\n",
       "        \"hate\": {\n",
       "          \"filtered\": false,\n",
       "          \"severity\": \"safe\"\n",
       "        },\n",
       "        \"self_harm\": {\n",
       "          \"filtered\": false,\n",
       "          \"severity\": \"safe\"\n",
       "        },\n",
       "        \"sexual\": {\n",
       "          \"filtered\": false,\n",
       "          \"severity\": \"safe\"\n",
       "        },\n",
       "        \"violence\": {\n",
       "          \"filtered\": false,\n",
       "          \"severity\": \"safe\"\n",
       "        }\n",
       "      }\n",
       "    }\n",
       "  ],\n",
       "  \"choices\": [\n",
       "    {\n",
       "      \"text\": \" \\u0625\\u0630\\u0627 \\u0643\\u0627\\u0646 \\u0647\\u0630\\u0627 \\u0633\\u064a\\u062c\\u0639\\u0644\\u0643 \\u062a\\u0634\\u0639\\u0631 \\u0628\\u0627\\u0644\\u0631\\u0627\\u062d\\u0629\\nFrench: Si cela vous rend heureux\\nGerman: Wenn es dich gl\\u00fccklich macht\\nItalian: Se questo ti rende felice\\nJapanese: \\u305d\\u308c\\u304c\\u3042\\u306a\\u305f\\u3092\\u5e78\\u305b\\u306b\\u3059\\u308b\\u306a\\u3089\\nKorean: \\uadf8\\uac8c \\ub2f9\\uc2e0\\uc744 \\ud589\\ubcf5\\ud558\\uac8c \\ub9cc\\ub4e0\\ub2e4\\uba74\\nMandarin Chinese: \\u5982\\u679c\\u8fd9\\u4f1a\\u8ba9\",\n",
       "      \"index\": 0,\n",
       "      \"finish_reason\": \"length\",\n",
       "      \"logprobs\": null,\n",
       "      \"content_filter_results\": {\n",
       "        \"hate\": {\n",
       "          \"filtered\": false,\n",
       "          \"severity\": \"safe\"\n",
       "        },\n",
       "        \"self_harm\": {\n",
       "          \"filtered\": false,\n",
       "          \"severity\": \"safe\"\n",
       "        },\n",
       "        \"sexual\": {\n",
       "          \"filtered\": false,\n",
       "          \"severity\": \"safe\"\n",
       "        },\n",
       "        \"violence\": {\n",
       "          \"filtered\": false,\n",
       "          \"severity\": \"safe\"\n",
       "        }\n",
       "      }\n",
       "    }\n",
       "  ],\n",
       "  \"usage\": {\n",
       "    \"prompt_tokens\": 22,\n",
       "    \"completion_tokens\": 100,\n",
       "    \"total_tokens\": 122\n",
       "  }\n",
       "}"
      ]
     },
     "execution_count": 11,
     "metadata": {},
     "output_type": "execute_result"
    }
   ],
   "source": [
    "src_text = \"إذا كان ده هيريحك\"\n",
    "raw_resp = request_gpt(src_text)\n",
    "raw_resp"
   ]
  },
  {
   "cell_type": "code",
   "execution_count": 12,
   "metadata": {},
   "outputs": [
    {
     "data": {
      "text/plain": [
       "' إذا كان هذا سيجعلك تشعر بالراحة\\nFrench: Si cela vous rend heureux\\nGerman: Wenn es dich glücklich macht\\nItalian: Se questo ti rende felice\\nJapanese: それがあなたを幸せにするなら\\nKorean: 그게 당신을 행복하게 만든다면\\nMandarin Chinese: 如果这会让'"
      ]
     },
     "execution_count": 12,
     "metadata": {},
     "output_type": "execute_result"
    }
   ],
   "source": [
    "raw_resp[\"choices\"][0][\"text\"]"
   ]
  },
  {
   "cell_type": "code",
   "execution_count": null,
   "metadata": {},
   "outputs": [],
   "source": [
    "# cut off whatever's not arabic or after newline\n",
    "def postprocessing(mt_text):\n",
    "    return mt_text.split('\\n')[0] "
   ]
  },
  {
   "cell_type": "code",
   "execution_count": 13,
   "metadata": {},
   "outputs": [],
   "source": [
    "data_file = \"../../data/osact/osact6_task2_dev_set_all.json\"\n",
    "with open(data_file) as f:\n",
    "    data_raw = json.load(f)"
   ]
  },
  {
   "cell_type": "code",
   "execution_count": 14,
   "metadata": {},
   "outputs": [
    {
     "data": {
      "text/plain": [
       "{'Egyptian', 'Gulf', 'Iraqi', 'Levantine', 'Magharebi'}"
      ]
     },
     "execution_count": 14,
     "metadata": {},
     "output_type": "execute_result"
    }
   ],
   "source": [
    "dialects = set()\n",
    "for item in data_raw:\n",
    "    dialects.add(item[\"dialect\"])\n",
    "dialects"
   ]
  },
  {
   "cell_type": "code",
   "execution_count": 15,
   "metadata": {},
   "outputs": [
    {
     "name": "stdout",
     "output_type": "stream",
     "text": [
      "Egyptian 598\n",
      "Iraqi 598\n",
      "Levantine 598\n",
      "Magharebi 598\n",
      "Gulf 601\n"
     ]
    }
   ],
   "source": [
    "data_by_dialect = {}\n",
    "for item in data_raw:\n",
    "    dialect = item.pop(\"dialect\")\n",
    "    \n",
    "    if dialect not in data_by_dialect:\n",
    "        data_by_dialect[dialect] = [item]\n",
    "    else:\n",
    "        data_by_dialect[dialect] += item\n",
    "\n",
    "for dialect, data in data_by_dialect.items():\n",
    "    print(dialect, len(data))"
   ]
  },
  {
   "cell_type": "code",
   "execution_count": null,
   "metadata": {},
   "outputs": [],
   "source": [
    "# data_for_comet = []\n",
    "results = []\n",
    "for dialect, data in data_by_dialect.items():\n",
    "    for item in data:\n",
    "        raw_resp = request_gpt(item[\"source\"], dialect)\n",
    "        raw_text = raw_resp[\"choices\"][0][\"text\"]\n",
    "        predicted = postprocessing(raw_text)\n",
    "\n",
    "        # data_for_comet.append({\n",
    "        #     \"src\": item[\"source\"],\n",
    "        #     \"mt\": predicted,\n",
    "        #     \"ref\": item[\"target\"]\n",
    "        # })\n",
    "\n",
    "        bleu_score = get_bleu_score(predicted, [item[\"target\"]])\n",
    "\n",
    "        item.update({\n",
    "            \"predicted\": predicted,\n",
    "            \"bleu_score\": bleu_score,\n",
    "        })\n",
    "        results.append(item)\n",
    "    "
   ]
  }
 ],
 "metadata": {
  "kernelspec": {
   "display_name": "Python 3",
   "language": "python",
   "name": "python3"
  },
  "language_info": {
   "codemirror_mode": {
    "name": "ipython",
    "version": 3
   },
   "file_extension": ".py",
   "mimetype": "text/x-python",
   "name": "python",
   "nbconvert_exporter": "python",
   "pygments_lexer": "ipython3",
   "version": "3.10.14"
  }
 },
 "nbformat": 4,
 "nbformat_minor": 2
}
